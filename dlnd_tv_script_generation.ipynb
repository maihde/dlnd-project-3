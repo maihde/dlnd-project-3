{
 "cells": [
  {
   "cell_type": "markdown",
   "metadata": {
    "deletable": true,
    "editable": true
   },
   "source": [
    "# TV Script Generation\n",
    "In this project, you'll generate your own [Simpsons](https://en.wikipedia.org/wiki/The_Simpsons) TV scripts using RNNs.  You'll be using part of the [Simpsons dataset](https://www.kaggle.com/wcukierski/the-simpsons-by-the-data) of scripts from 27 seasons.  The Neural Network you'll build will generate a new TV script for a scene at [Moe's Tavern](https://simpsonswiki.com/wiki/Moe's_Tavern).\n",
    "## Get the Data\n",
    "The data is already provided for you.  You'll be using a subset of the original dataset.  It consists of only the scenes in Moe's Tavern.  This doesn't include other versions of the tavern, like \"Moe's Cavern\", \"Flaming Moe's\", \"Uncle Moe's Family Feed-Bag\", etc.."
   ]
  },
  {
   "cell_type": "code",
   "execution_count": 1,
   "metadata": {
    "collapsed": false,
    "deletable": true,
    "editable": true
   },
   "outputs": [],
   "source": [
    "\"\"\"\n",
    "DON'T MODIFY ANYTHING IN THIS CELL\n",
    "\"\"\"\n",
    "import helper\n",
    "\n",
    "data_dir = './data/simpsons/moes_tavern_lines.txt'\n",
    "text = helper.load_data(data_dir)\n",
    "# Ignore notice, since we don't use it for analysing the data\n",
    "text = text[81:]"
   ]
  },
  {
   "cell_type": "markdown",
   "metadata": {
    "deletable": true,
    "editable": true
   },
   "source": [
    "## Explore the Data\n",
    "Play around with `view_sentence_range` to view different parts of the data."
   ]
  },
  {
   "cell_type": "code",
   "execution_count": 2,
   "metadata": {
    "collapsed": false,
    "deletable": true,
    "editable": true
   },
   "outputs": [
    {
     "name": "stdout",
     "output_type": "stream",
     "text": [
      "Dataset Stats\n",
      "Roughly the number of unique words: 11492\n",
      "Number of scenes: 262\n",
      "Average number of sentences in each scene: 15.248091603053435\n",
      "Number of lines: 4257\n",
      "Average number of words in each line: 11.50434578341555\n",
      "\n",
      "The sentences 0 to 10:\n",
      "Moe_Szyslak: (INTO PHONE) Moe's Tavern. Where the elite meet to drink.\n",
      "Bart_Simpson: Eh, yeah, hello, is Mike there? Last name, Rotch.\n",
      "Moe_Szyslak: (INTO PHONE) Hold on, I'll check. (TO BARFLIES) Mike Rotch. Mike Rotch. Hey, has anybody seen Mike Rotch, lately?\n",
      "Moe_Szyslak: (INTO PHONE) Listen you little puke. One of these days I'm gonna catch you, and I'm gonna carve my name on your back with an ice pick.\n",
      "Moe_Szyslak: What's the matter Homer? You're not your normal effervescent self.\n",
      "Homer_Simpson: I got my problems, Moe. Give me another one.\n",
      "Moe_Szyslak: Homer, hey, you should not drink to forget your problems.\n",
      "Barney_Gumble: Yeah, you should only drink to enhance your social skills.\n",
      "\n",
      "\n"
     ]
    }
   ],
   "source": [
    "view_sentence_range = (0, 10)\n",
    "\n",
    "\"\"\"\n",
    "DON'T MODIFY ANYTHING IN THIS CELL\n",
    "\"\"\"\n",
    "import numpy as np\n",
    "\n",
    "print('Dataset Stats')\n",
    "print('Roughly the number of unique words: {}'.format(len({word: None for word in text.split()})))\n",
    "scenes = text.split('\\n\\n')\n",
    "print('Number of scenes: {}'.format(len(scenes)))\n",
    "sentence_count_scene = [scene.count('\\n') for scene in scenes]\n",
    "print('Average number of sentences in each scene: {}'.format(np.average(sentence_count_scene)))\n",
    "\n",
    "sentences = [sentence for scene in scenes for sentence in scene.split('\\n')]\n",
    "print('Number of lines: {}'.format(len(sentences)))\n",
    "word_count_sentence = [len(sentence.split()) for sentence in sentences]\n",
    "print('Average number of words in each line: {}'.format(np.average(word_count_sentence)))\n",
    "\n",
    "print()\n",
    "print('The sentences {} to {}:'.format(*view_sentence_range))\n",
    "print('\\n'.join(text.split('\\n')[view_sentence_range[0]:view_sentence_range[1]]))"
   ]
  },
  {
   "cell_type": "markdown",
   "metadata": {
    "deletable": true,
    "editable": true
   },
   "source": [
    "## Implement Preprocessing Functions\n",
    "The first thing to do to any dataset is preprocessing.  Implement the following preprocessing functions below:\n",
    "- Lookup Table\n",
    "- Tokenize Punctuation\n",
    "\n",
    "### Lookup Table\n",
    "To create a word embedding, you first need to transform the words to ids.  In this function, create two dictionaries:\n",
    "- Dictionary to go from the words to an id, we'll call `vocab_to_int`\n",
    "- Dictionary to go from the id to word, we'll call `int_to_vocab`\n",
    "\n",
    "Return these dictionaries in the following tuple `(vocab_to_int, int_to_vocab)`"
   ]
  },
  {
   "cell_type": "code",
   "execution_count": 3,
   "metadata": {
    "collapsed": false,
    "deletable": true,
    "editable": true
   },
   "outputs": [
    {
     "name": "stdout",
     "output_type": "stream",
     "text": [
      "Tests Passed\n"
     ]
    }
   ],
   "source": [
    "## import numpy as np\n",
    "import problem_unittests as tests\n",
    "\n",
    "def create_lookup_tables(text):\n",
    "    \"\"\"\n",
    "    Create lookup tables for vocabulary\n",
    "    :param text: The text of tv scripts split into words\n",
    "    :return: A tuple of dicts (vocab_to_int, int_to_vocab)\n",
    "    \"\"\"\n",
    "    vocab_to_int = {}\n",
    "    int_to_vocab = {}\n",
    "    for word in text:\n",
    "        i = vocab_to_int.setdefault(word, len(vocab_to_int)+1)\n",
    "        int_to_vocab[i] = word # redundant after it has already been set the first time\n",
    "    return vocab_to_int, int_to_vocab\n",
    "\n",
    "\n",
    "\"\"\"\n",
    "DON'T MODIFY ANYTHING IN THIS CELL THAT IS BELOW THIS LINE\n",
    "\"\"\"\n",
    "tests.test_create_lookup_tables(create_lookup_tables)"
   ]
  },
  {
   "cell_type": "markdown",
   "metadata": {
    "deletable": true,
    "editable": true
   },
   "source": [
    "### Tokenize Punctuation\n",
    "We'll be splitting the script into a word array using spaces as delimiters.  However, punctuations like periods and exclamation marks make it hard for the neural network to distinguish between the word \"bye\" and \"bye!\".\n",
    "\n",
    "Implement the function `token_lookup` to return a dict that will be used to tokenize symbols like \"!\" into \"||Exclamation_Mark||\".  Create a dictionary for the following symbols where the symbol is the key and value is the token:\n",
    "- Period ( . )\n",
    "- Comma ( , )\n",
    "- Quotation Mark ( \" )\n",
    "- Semicolon ( ; )\n",
    "- Exclamation mark ( ! )\n",
    "- Question mark ( ? )\n",
    "- Left Parentheses ( ( )\n",
    "- Right Parentheses ( ) )\n",
    "- Dash ( -- )\n",
    "- Return ( \\n )\n",
    "\n",
    "This dictionary will be used to token the symbols and add the delimiter (space) around it.  This separates the symbols as it's own word, making it easier for the neural network to predict on the next word. Make sure you don't use a token that could be confused as a word. Instead of using the token \"dash\", try using something like \"||dash||\"."
   ]
  },
  {
   "cell_type": "code",
   "execution_count": 4,
   "metadata": {
    "collapsed": false,
    "deletable": true,
    "editable": true
   },
   "outputs": [
    {
     "name": "stdout",
     "output_type": "stream",
     "text": [
      "Tests Passed\n"
     ]
    }
   ],
   "source": [
    "def token_lookup():\n",
    "    \"\"\"\n",
    "    Generate a dict to turn punctuation into a token.\n",
    "    :return: Tokenize dictionary where the key is the punctuation and the value is the token\n",
    "    \"\"\"\n",
    "    # Per the directions we only implement the above listed punctuation characters,\n",
    "    # but another approach would be to iterate over strings.punctuation and encode\n",
    "    # them as something like \" ||0x21|| \".\n",
    "    tokens = {\n",
    "        \".\"  : \"||period||\",\n",
    "        \",\"  : \"||comma||\",\n",
    "        \"\\\"\" : \"||quote||\",\n",
    "        \";\"  : \"||semicolon||\",\n",
    "        \"!\"  : \"||exclamation_mark||\",\n",
    "        \"?\"  : \"||question_mark||\",\n",
    "        \"(\"  : \"||left_paren||\",\n",
    "        \")\"  : \"||right_paren||\",\n",
    "        \"--\"  : \"||dash||\",\n",
    "        \"\\n\" : \"||newline||\" # assumes text is in unix format\n",
    "    }\n",
    "        \n",
    "    return tokens\n",
    "\n",
    "\"\"\"\n",
    "DON'T MODIFY ANYTHING IN THIS CELL THAT IS BELOW THIS LINE\n",
    "\"\"\"\n",
    "tests.test_tokenize(token_lookup)"
   ]
  },
  {
   "cell_type": "markdown",
   "metadata": {
    "deletable": true,
    "editable": true
   },
   "source": [
    "## Preprocess all the data and save it\n",
    "Running the code cell below will preprocess all the data and save it to file."
   ]
  },
  {
   "cell_type": "code",
   "execution_count": 5,
   "metadata": {
    "collapsed": false,
    "deletable": true,
    "editable": true
   },
   "outputs": [],
   "source": [
    "\"\"\"\n",
    "DON'T MODIFY ANYTHING IN THIS CELL\n",
    "\"\"\"\n",
    "# Preprocess Training, Validation, and Testing Data\n",
    "helper.preprocess_and_save_data(data_dir, token_lookup, create_lookup_tables)"
   ]
  },
  {
   "cell_type": "markdown",
   "metadata": {
    "deletable": true,
    "editable": true
   },
   "source": [
    "# Check Point\n",
    "This is your first checkpoint. If you ever decide to come back to this notebook or have to restart the notebook, you can start from here. The preprocessed data has been saved to disk."
   ]
  },
  {
   "cell_type": "code",
   "execution_count": 6,
   "metadata": {
    "collapsed": false,
    "deletable": true,
    "editable": true
   },
   "outputs": [],
   "source": [
    "\"\"\"\n",
    "DON'T MODIFY ANYTHING IN THIS CELL\n",
    "\"\"\"\n",
    "import helper\n",
    "import numpy as np\n",
    "import problem_unittests as tests\n",
    "\n",
    "int_text, vocab_to_int, int_to_vocab, token_dict = helper.load_preprocess()"
   ]
  },
  {
   "cell_type": "markdown",
   "metadata": {
    "deletable": true,
    "editable": true
   },
   "source": [
    "## Build the Neural Network\n",
    "You'll build the components necessary to build a RNN by implementing the following functions below:\n",
    "- get_inputs\n",
    "- get_init_cell\n",
    "- get_embed\n",
    "- build_rnn\n",
    "- build_nn\n",
    "- get_batches\n",
    "\n",
    "### Check the Version of TensorFlow and Access to GPU"
   ]
  },
  {
   "cell_type": "code",
   "execution_count": 7,
   "metadata": {
    "collapsed": false,
    "deletable": true,
    "editable": true
   },
   "outputs": [
    {
     "name": "stdout",
     "output_type": "stream",
     "text": [
      "TensorFlow Version: 1.0.0\n",
      "Default GPU Device: /gpu:0\n"
     ]
    }
   ],
   "source": [
    "\"\"\"\n",
    "DON'T MODIFY ANYTHING IN THIS CELL\n",
    "\"\"\"\n",
    "from distutils.version import LooseVersion\n",
    "import warnings\n",
    "import tensorflow as tf\n",
    "\n",
    "# Check TensorFlow Version\n",
    "assert LooseVersion(tf.__version__) >= LooseVersion('1.0'), 'Please use TensorFlow version 1.0 or newer'\n",
    "print('TensorFlow Version: {}'.format(tf.__version__))\n",
    "\n",
    "# Check for a GPU\n",
    "if not tf.test.gpu_device_name():\n",
    "    warnings.warn('No GPU found. Please use a GPU to train your neural network.')\n",
    "else:\n",
    "    print('Default GPU Device: {}'.format(tf.test.gpu_device_name()))"
   ]
  },
  {
   "cell_type": "markdown",
   "metadata": {
    "deletable": true,
    "editable": true
   },
   "source": [
    "### Input\n",
    "Implement the `get_inputs()` function to create TF Placeholders for the Neural Network.  It should create the following placeholders:\n",
    "- Input text placeholder named \"input\" using the [TF Placeholder](https://www.tensorflow.org/api_docs/python/tf/placeholder) `name` parameter.\n",
    "- Targets placeholder\n",
    "- Learning Rate placeholder\n",
    "\n",
    "Return the placeholders in the following the tuple `(Input, Targets, LearingRate)`"
   ]
  },
  {
   "cell_type": "code",
   "execution_count": 8,
   "metadata": {
    "collapsed": false,
    "deletable": true,
    "editable": true
   },
   "outputs": [
    {
     "name": "stdout",
     "output_type": "stream",
     "text": [
      "Tests Passed\n"
     ]
    }
   ],
   "source": [
    "def get_inputs():\n",
    "    \"\"\"\n",
    "    Create TF Placeholders for input, targets, and learning rate.\n",
    "    :return: Tuple (input, targets, learning rate)\n",
    "    \"\"\"\n",
    "    inputs = tf.placeholder(tf.int32, (None,None), name=\"input\")\n",
    "    targets = tf.placeholder(tf.int32, (None,None), name=\"targets\") \n",
    "    learning_rate = tf.placeholder(tf.float32, name=\"learning_rate\")\n",
    "    return inputs, targets, learning_rate\n",
    "\n",
    "\n",
    "\"\"\"\n",
    "DON'T MODIFY ANYTHING IN THIS CELL THAT IS BELOW THIS LINE\n",
    "\"\"\"\n",
    "tests.test_get_inputs(get_inputs)"
   ]
  },
  {
   "cell_type": "markdown",
   "metadata": {
    "deletable": true,
    "editable": true
   },
   "source": [
    "### Build RNN Cell and Initialize\n",
    "Stack one or more [`BasicLSTMCells`](https://www.tensorflow.org/api_docs/python/tf/contrib/rnn/BasicLSTMCell) in a [`MultiRNNCell`](https://www.tensorflow.org/api_docs/python/tf/contrib/rnn/MultiRNNCell).\n",
    "- The Rnn size should be set using `rnn_size`\n",
    "- Initalize Cell State using the MultiRNNCell's [`zero_state()`](https://www.tensorflow.org/api_docs/python/tf/contrib/rnn/MultiRNNCell#zero_state) function\n",
    "    - Apply the name \"initial_state\" to the initial state using [`tf.identity()`](https://www.tensorflow.org/api_docs/python/tf/identity)\n",
    "\n",
    "Return the cell and initial state in the following tuple `(Cell, InitialState)`"
   ]
  },
  {
   "cell_type": "code",
   "execution_count": 9,
   "metadata": {
    "collapsed": false,
    "deletable": true,
    "editable": true
   },
   "outputs": [
    {
     "name": "stdout",
     "output_type": "stream",
     "text": [
      "Tests Passed\n"
     ]
    }
   ],
   "source": [
    "def get_init_cell(batch_size, rnn_size, num_layers=2):\n",
    "    \"\"\"\n",
    "    Create an RNN Cell and initialize it.\n",
    "    :param batch_size: Size of batches\n",
    "    :param rnn_size: Size of RNNs\n",
    "    :return: Tuple (cell, initialize state)\n",
    "    \"\"\"\n",
    "    lstm = tf.contrib.rnn.BasicLSTMCell(rnn_size)\n",
    "    cell = tf.contrib.rnn.MultiRNNCell([ lstm ] * num_layers)\n",
    "    \n",
    "    initial_state = tf.identity(cell.zero_state(batch_size, tf.float32), name=\"initial_state\")\n",
    "    return cell, initial_state\n",
    "\n",
    "\n",
    "\"\"\"\n",
    "DON'T MODIFY ANYTHING IN THIS CELL THAT IS BELOW THIS LINE\n",
    "\"\"\"\n",
    "tests.test_get_init_cell(get_init_cell)"
   ]
  },
  {
   "cell_type": "markdown",
   "metadata": {
    "deletable": true,
    "editable": true
   },
   "source": [
    "### Word Embedding\n",
    "Apply embedding to `input_data` using TensorFlow.  Return the embedded sequence."
   ]
  },
  {
   "cell_type": "code",
   "execution_count": 10,
   "metadata": {
    "collapsed": false,
    "deletable": true,
    "editable": true
   },
   "outputs": [
    {
     "name": "stdout",
     "output_type": "stream",
     "text": [
      "Tests Passed\n"
     ]
    }
   ],
   "source": [
    "def get_embed(input_data, vocab_size, embed_dim):\n",
    "    \"\"\"\n",
    "    Create embedding for <input_data>.\n",
    "    :param input_data: TF placeholder for text input.\n",
    "    :param vocab_size: Number of words in vocabulary.\n",
    "    :param embed_dim: Number of embedding dimensions\n",
    "    :return: Embedded input.\n",
    "    \"\"\"\n",
    "    embedding = tf.Variable(tf.random_uniform((vocab_size, embed_dim), -1, 1))\n",
    "    embed = tf.nn.embedding_lookup(embedding, input_data)\n",
    "    return embed\n",
    "\n",
    "\n",
    "\"\"\"\n",
    "DON'T MODIFY ANYTHING IN THIS CELL THAT IS BELOW THIS LINE\n",
    "\"\"\"\n",
    "tests.test_get_embed(get_embed)"
   ]
  },
  {
   "cell_type": "markdown",
   "metadata": {
    "deletable": true,
    "editable": true
   },
   "source": [
    "### Build RNN\n",
    "You created a RNN Cell in the `get_init_cell()` function.  Time to use the cell to create a RNN.\n",
    "- Build the RNN using the [`tf.nn.dynamic_rnn()`](https://www.tensorflow.org/api_docs/python/tf/nn/dynamic_rnn)\n",
    " - Apply the name \"final_state\" to the final state using [`tf.identity()`](https://www.tensorflow.org/api_docs/python/tf/identity)\n",
    "\n",
    "Return the outputs and final_state state in the following tuple `(Outputs, FinalState)` "
   ]
  },
  {
   "cell_type": "code",
   "execution_count": 11,
   "metadata": {
    "collapsed": false,
    "deletable": true,
    "editable": true
   },
   "outputs": [
    {
     "name": "stdout",
     "output_type": "stream",
     "text": [
      "Tests Passed\n"
     ]
    }
   ],
   "source": [
    "def build_rnn(cell, inputs):\n",
    "    \"\"\"\n",
    "    Create a RNN using a RNN Cell\n",
    "    :param cell: RNN Cell\n",
    "    :param inputs: Input text data\n",
    "    :return: Tuple (Outputs, Final State)\n",
    "    \"\"\"\n",
    "    outputs, final_state = tf.nn.dynamic_rnn(\n",
    "        cell, inputs, dtype=tf.float32\n",
    "    )\n",
    "    final_state = tf.identity(final_state, name=\"final_state\")\n",
    "    return outputs, final_state\n",
    "\n",
    "\n",
    "\"\"\"\n",
    "DON'T MODIFY ANYTHING IN THIS CELL THAT IS BELOW THIS LINE\n",
    "\"\"\"\n",
    "tests.test_build_rnn(build_rnn)"
   ]
  },
  {
   "cell_type": "markdown",
   "metadata": {
    "deletable": true,
    "editable": true
   },
   "source": [
    "### Build the Neural Network\n",
    "Apply the functions you implemented above to:\n",
    "- Apply embedding to `input_data` using your `get_embed(input_data, vocab_size, embed_dim)` function.\n",
    "- Build RNN using `cell` and your `build_rnn(cell, inputs)` function.\n",
    "- Apply a fully connected layer with a linear activation and `vocab_size` as the number of outputs.\n",
    "\n",
    "Return the logits and final state in the following tuple (Logits, FinalState) "
   ]
  },
  {
   "cell_type": "code",
   "execution_count": 17,
   "metadata": {
    "collapsed": false,
    "deletable": true,
    "editable": true
   },
   "outputs": [
    {
     "name": "stdout",
     "output_type": "stream",
     "text": [
      "Tests Passed\n"
     ]
    }
   ],
   "source": [
    "def build_nn(cell, rnn_size, input_data, vocab_size, embed_dim=300):\n",
    "    \"\"\"\n",
    "    Build part of the neural network\n",
    "    :param cell: RNN cell\n",
    "    :param rnn_size: Size of rnns\n",
    "    :param input_data: Input data\n",
    "    :param vocab_size: Vocabulary size\n",
    "    :return: Tuple (Logits, FinalState)\n",
    "    \"\"\"\n",
    "    embed = get_embed(input_data, vocab_size, embed_dim)\n",
    "    output, final_state = build_rnn(cell, embed)\n",
    "    logits=tf.contrib.layers.fully_connected(\n",
    "        output,\n",
    "        vocab_size,\n",
    "        activation_fn=None\n",
    "    )\n",
    "    return logits, final_state\n",
    "\n",
    "\n",
    "\"\"\"\n",
    "DON'T MODIFY ANYTHING IN THIS CELL THAT IS BELOW THIS LINE\n",
    "\"\"\"\n",
    "tests.test_build_nn(build_nn)"
   ]
  },
  {
   "cell_type": "markdown",
   "metadata": {
    "deletable": true,
    "editable": true
   },
   "source": [
    "### Batches\n",
    "Implement `get_batches` to create batches of input and targets using `int_text`.  The batches should be a Numpy array with the shape `(number of batches, 2, batch size, sequence length)`. Each batch contains two elements:\n",
    "- The first element is a single batch of **input** with the shape `[batch size, sequence length]`\n",
    "- The second element is a single batch of **targets** with the shape `[batch size, sequence length]`\n",
    "\n",
    "If you can't fill the last batch with enough data, drop the last batch.\n",
    "\n",
    "For exmple, `get_batches([1, 2, 3, 4, 5, 6, 7, 8, 9, 10, 11, 12, 13, 14, 15], 2, 3)` would return a Numpy array of the following:\n",
    "```\n",
    "[\n",
    "  # First Batch\n",
    "  [\n",
    "    # Batch of Input\n",
    "    [[ 1  2  3], [ 7  8  9]],\n",
    "    # Batch of targets\n",
    "    [[ 2  3  4], [ 8  9 10]]\n",
    "  ],\n",
    " \n",
    "  # Second Batch\n",
    "  [\n",
    "    # Batch of Input\n",
    "    [[ 4  5  6], [10 11 12]],\n",
    "    # Batch of targets\n",
    "    [[ 5  6  7], [11 12 13]]\n",
    "  ]\n",
    "]\n",
    "```"
   ]
  },
  {
   "cell_type": "code",
   "execution_count": 13,
   "metadata": {
    "collapsed": false,
    "deletable": true,
    "editable": true
   },
   "outputs": [
    {
     "name": "stdout",
     "output_type": "stream",
     "text": [
      "Tests Passed\n"
     ]
    }
   ],
   "source": [
    "def get_batches(int_text, batch_size, seq_length):\n",
    "    \"\"\"\n",
    "    Return batches of input and target\n",
    "    :param int_text: Text with the words replaced by their ids\n",
    "    :param batch_size: The size of batch\n",
    "    :param seq_length: The length of sequence\n",
    "    :return: Batches as a Numpy array\n",
    "    \"\"\"\n",
    "    # inspired by utils.py in the embeddings exercise\n",
    "    \n",
    "    # each batch consumes batch_size * seq_length inputs\n",
    "    # round down since the code only deals with whole batches\n",
    "    num_batches = int((len(int_text)-1) / (batch_size * seq_length))\n",
    "    \n",
    "    # Grab all the input data into a linear array\n",
    "    input_data = np.array(int_text[: num_batches * batch_size * seq_length])\n",
    "    # The target data is simply the input data shifted by one\n",
    "    target_data = np.array(int_text[1: num_batches * batch_size * seq_length + 1])\n",
    "    \n",
    "    # Reshape the array\n",
    "    input_data = input_data.reshape(batch_size, -1)\n",
    "    target_data = target_data.reshape(batch_size, -1)\n",
    "    \n",
    "    # Create batches\n",
    "    input_batches = np.split(input_data, num_batches, 1)\n",
    "    target_batches = np.split(target_data, num_batches, 1)\n",
    "\n",
    "    # Join inputs and targets\n",
    "    batches = np.array(list(zip(input_batches, target_batches)))\n",
    "    return batches\n",
    "\n",
    "\"\"\"\n",
    "DON'T MODIFY ANYTHING IN THIS CELL THAT IS BELOW THIS LINE\n",
    "\"\"\"\n",
    "tests.test_get_batches(get_batches)"
   ]
  },
  {
   "cell_type": "markdown",
   "metadata": {
    "deletable": true,
    "editable": true
   },
   "source": [
    "## Neural Network Training\n",
    "### Hyperparameters\n",
    "Tune the following parameters:\n",
    "\n",
    "- Set `num_epochs` to the number of epochs.\n",
    "- Set `batch_size` to the batch size.\n",
    "- Set `rnn_size` to the size of the RNNs.\n",
    "- Set `seq_length` to the length of sequence.\n",
    "- Set `learning_rate` to the learning rate.\n",
    "- Set `show_every_n_batches` to the number of batches the neural network should print progress."
   ]
  },
  {
   "cell_type": "code",
   "execution_count": 21,
   "metadata": {
    "collapsed": true,
    "deletable": true,
    "editable": true
   },
   "outputs": [],
   "source": [
    "# Number of Epochs\n",
    "num_epochs = 50\n",
    "# Batch Size\n",
    "batch_size = 128\n",
    "# RNN Size\n",
    "rnn_size = 256\n",
    "# Sequence Length\n",
    "seq_length = 12\n",
    "# Learning Rate\n",
    "learning_rate = 0.01\n",
    "# Show stats for every n number of batches\n",
    "show_every_n_batches = 10\n",
    "\n",
    "\"\"\"\n",
    "DON'T MODIFY ANYTHING IN THIS CELL THAT IS BELOW THIS LINE\n",
    "\"\"\"\n",
    "save_dir = './save'"
   ]
  },
  {
   "cell_type": "markdown",
   "metadata": {
    "deletable": true,
    "editable": true
   },
   "source": [
    "### Build the Graph\n",
    "Build the graph using the neural network you implemented."
   ]
  },
  {
   "cell_type": "code",
   "execution_count": 22,
   "metadata": {
    "collapsed": false,
    "deletable": true,
    "editable": true
   },
   "outputs": [],
   "source": [
    "\"\"\"\n",
    "DON'T MODIFY ANYTHING IN THIS CELL\n",
    "\"\"\"\n",
    "from tensorflow.contrib import seq2seq\n",
    "\n",
    "train_graph = tf.Graph()\n",
    "with train_graph.as_default():\n",
    "    vocab_size = len(int_to_vocab)\n",
    "    input_text, targets, lr = get_inputs()\n",
    "    input_data_shape = tf.shape(input_text)\n",
    "    cell, initial_state = get_init_cell(input_data_shape[0], rnn_size)\n",
    "    logits, final_state = build_nn(cell, rnn_size, input_text, vocab_size)\n",
    "\n",
    "    # Probabilities for generating words\n",
    "    probs = tf.nn.softmax(logits, name='probs')\n",
    "\n",
    "    # Loss function\n",
    "    cost = seq2seq.sequence_loss(\n",
    "        logits,\n",
    "        targets,\n",
    "        tf.ones([input_data_shape[0], input_data_shape[1]]))\n",
    "\n",
    "    # Optimizer\n",
    "    optimizer = tf.train.AdamOptimizer(lr)\n",
    "\n",
    "    # Gradient Clipping\n",
    "    gradients = optimizer.compute_gradients(cost)\n",
    "    capped_gradients = [(tf.clip_by_value(grad, -1., 1.), var) for grad, var in gradients]\n",
    "    train_op = optimizer.apply_gradients(capped_gradients)"
   ]
  },
  {
   "cell_type": "markdown",
   "metadata": {
    "deletable": true,
    "editable": true
   },
   "source": [
    "## Train\n",
    "Train the neural network on the preprocessed data.  If you have a hard time getting a good loss, check the [forms](https://discussions.udacity.com/) to see if anyone is having the same problem."
   ]
  },
  {
   "cell_type": "code",
   "execution_count": 23,
   "metadata": {
    "collapsed": false,
    "deletable": true,
    "editable": true,
    "scrolled": false
   },
   "outputs": [
    {
     "name": "stdout",
     "output_type": "stream",
     "text": [
      "Epoch   0 Batch    0/44   train_loss = 8.821\n",
      "Epoch   0 Batch   10/44   train_loss = 7.138\n",
      "Epoch   0 Batch   20/44   train_loss = 6.979\n",
      "Epoch   0 Batch   30/44   train_loss = 6.898\n",
      "Epoch   0 Batch   40/44   train_loss = 6.600\n",
      "Epoch   1 Batch    6/44   train_loss = 6.019\n",
      "Epoch   1 Batch   16/44   train_loss = 6.105\n",
      "Epoch   1 Batch   26/44   train_loss = 5.997\n",
      "Epoch   1 Batch   36/44   train_loss = 5.817\n",
      "Epoch   2 Batch    2/44   train_loss = 5.266\n",
      "Epoch   2 Batch   12/44   train_loss = 5.332\n",
      "Epoch   2 Batch   22/44   train_loss = 5.121\n",
      "Epoch   2 Batch   32/44   train_loss = 5.051\n",
      "Epoch   2 Batch   42/44   train_loss = 4.937\n",
      "Epoch   3 Batch    8/44   train_loss = 4.800\n",
      "Epoch   3 Batch   18/44   train_loss = 4.810\n",
      "Epoch   3 Batch   28/44   train_loss = 4.757\n",
      "Epoch   3 Batch   38/44   train_loss = 4.664\n",
      "Epoch   4 Batch    4/44   train_loss = 4.488\n",
      "Epoch   4 Batch   14/44   train_loss = 4.621\n",
      "Epoch   4 Batch   24/44   train_loss = 4.551\n",
      "Epoch   4 Batch   34/44   train_loss = 4.446\n",
      "Epoch   5 Batch    0/44   train_loss = 4.368\n",
      "Epoch   5 Batch   10/44   train_loss = 4.461\n",
      "Epoch   5 Batch   20/44   train_loss = 4.292\n",
      "Epoch   5 Batch   30/44   train_loss = 4.363\n",
      "Epoch   5 Batch   40/44   train_loss = 4.291\n",
      "Epoch   6 Batch    6/44   train_loss = 4.152\n",
      "Epoch   6 Batch   16/44   train_loss = 4.234\n",
      "Epoch   6 Batch   26/44   train_loss = 4.044\n",
      "Epoch   6 Batch   36/44   train_loss = 4.246\n",
      "Epoch   7 Batch    2/44   train_loss = 3.973\n",
      "Epoch   7 Batch   12/44   train_loss = 4.018\n",
      "Epoch   7 Batch   22/44   train_loss = 3.984\n",
      "Epoch   7 Batch   32/44   train_loss = 3.916\n",
      "Epoch   7 Batch   42/44   train_loss = 3.993\n",
      "Epoch   8 Batch    8/44   train_loss = 3.864\n",
      "Epoch   8 Batch   18/44   train_loss = 3.870\n",
      "Epoch   8 Batch   28/44   train_loss = 3.849\n",
      "Epoch   8 Batch   38/44   train_loss = 3.712\n",
      "Epoch   9 Batch    4/44   train_loss = 3.655\n",
      "Epoch   9 Batch   14/44   train_loss = 3.688\n",
      "Epoch   9 Batch   24/44   train_loss = 3.646\n",
      "Epoch   9 Batch   34/44   train_loss = 3.511\n",
      "Epoch  10 Batch    0/44   train_loss = 3.476\n",
      "Epoch  10 Batch   10/44   train_loss = 3.509\n",
      "Epoch  10 Batch   20/44   train_loss = 3.399\n",
      "Epoch  10 Batch   30/44   train_loss = 3.485\n",
      "Epoch  10 Batch   40/44   train_loss = 3.355\n",
      "Epoch  11 Batch    6/44   train_loss = 3.311\n",
      "Epoch  11 Batch   16/44   train_loss = 3.343\n",
      "Epoch  11 Batch   26/44   train_loss = 3.162\n",
      "Epoch  11 Batch   36/44   train_loss = 3.313\n",
      "Epoch  12 Batch    2/44   train_loss = 3.207\n",
      "Epoch  12 Batch   12/44   train_loss = 3.239\n",
      "Epoch  12 Batch   22/44   train_loss = 3.148\n",
      "Epoch  12 Batch   32/44   train_loss = 3.082\n",
      "Epoch  12 Batch   42/44   train_loss = 3.018\n",
      "Epoch  13 Batch    8/44   train_loss = 2.958\n",
      "Epoch  13 Batch   18/44   train_loss = 3.014\n",
      "Epoch  13 Batch   28/44   train_loss = 2.967\n",
      "Epoch  13 Batch   38/44   train_loss = 2.821\n",
      "Epoch  14 Batch    4/44   train_loss = 2.763\n",
      "Epoch  14 Batch   14/44   train_loss = 2.747\n",
      "Epoch  14 Batch   24/44   train_loss = 2.733\n",
      "Epoch  14 Batch   34/44   train_loss = 2.664\n",
      "Epoch  15 Batch    0/44   train_loss = 2.659\n",
      "Epoch  15 Batch   10/44   train_loss = 2.583\n",
      "Epoch  15 Batch   20/44   train_loss = 2.583\n",
      "Epoch  15 Batch   30/44   train_loss = 2.632\n",
      "Epoch  15 Batch   40/44   train_loss = 2.555\n",
      "Epoch  16 Batch    6/44   train_loss = 2.459\n",
      "Epoch  16 Batch   16/44   train_loss = 2.505\n",
      "Epoch  16 Batch   26/44   train_loss = 2.382\n",
      "Epoch  16 Batch   36/44   train_loss = 2.571\n",
      "Epoch  17 Batch    2/44   train_loss = 2.490\n",
      "Epoch  17 Batch   12/44   train_loss = 2.461\n",
      "Epoch  17 Batch   22/44   train_loss = 2.395\n",
      "Epoch  17 Batch   32/44   train_loss = 2.355\n",
      "Epoch  17 Batch   42/44   train_loss = 2.301\n",
      "Epoch  18 Batch    8/44   train_loss = 2.249\n",
      "Epoch  18 Batch   18/44   train_loss = 2.280\n",
      "Epoch  18 Batch   28/44   train_loss = 2.202\n",
      "Epoch  18 Batch   38/44   train_loss = 2.124\n",
      "Epoch  19 Batch    4/44   train_loss = 2.124\n",
      "Epoch  19 Batch   14/44   train_loss = 1.959\n",
      "Epoch  19 Batch   24/44   train_loss = 2.024\n",
      "Epoch  19 Batch   34/44   train_loss = 1.961\n",
      "Epoch  20 Batch    0/44   train_loss = 2.032\n",
      "Epoch  20 Batch   10/44   train_loss = 1.910\n",
      "Epoch  20 Batch   20/44   train_loss = 1.916\n",
      "Epoch  20 Batch   30/44   train_loss = 1.950\n",
      "Epoch  20 Batch   40/44   train_loss = 1.886\n",
      "Epoch  21 Batch    6/44   train_loss = 1.792\n",
      "Epoch  21 Batch   16/44   train_loss = 1.918\n",
      "Epoch  21 Batch   26/44   train_loss = 1.771\n",
      "Epoch  21 Batch   36/44   train_loss = 1.860\n",
      "Epoch  22 Batch    2/44   train_loss = 1.892\n",
      "Epoch  22 Batch   12/44   train_loss = 1.832\n",
      "Epoch  22 Batch   22/44   train_loss = 1.793\n",
      "Epoch  22 Batch   32/44   train_loss = 1.745\n",
      "Epoch  22 Batch   42/44   train_loss = 1.688\n",
      "Epoch  23 Batch    8/44   train_loss = 1.629\n",
      "Epoch  23 Batch   18/44   train_loss = 1.685\n",
      "Epoch  23 Batch   28/44   train_loss = 1.605\n",
      "Epoch  23 Batch   38/44   train_loss = 1.563\n",
      "Epoch  24 Batch    4/44   train_loss = 1.535\n",
      "Epoch  24 Batch   14/44   train_loss = 1.461\n",
      "Epoch  24 Batch   24/44   train_loss = 1.509\n",
      "Epoch  24 Batch   34/44   train_loss = 1.458\n",
      "Epoch  25 Batch    0/44   train_loss = 1.506\n",
      "Epoch  25 Batch   10/44   train_loss = 1.413\n",
      "Epoch  25 Batch   20/44   train_loss = 1.407\n",
      "Epoch  25 Batch   30/44   train_loss = 1.419\n",
      "Epoch  25 Batch   40/44   train_loss = 1.407\n",
      "Epoch  26 Batch    6/44   train_loss = 1.339\n",
      "Epoch  26 Batch   16/44   train_loss = 1.468\n",
      "Epoch  26 Batch   26/44   train_loss = 1.318\n",
      "Epoch  26 Batch   36/44   train_loss = 1.394\n",
      "Epoch  27 Batch    2/44   train_loss = 1.423\n",
      "Epoch  27 Batch   12/44   train_loss = 1.407\n",
      "Epoch  27 Batch   22/44   train_loss = 1.368\n",
      "Epoch  27 Batch   32/44   train_loss = 1.313\n",
      "Epoch  27 Batch   42/44   train_loss = 1.252\n",
      "Epoch  28 Batch    8/44   train_loss = 1.228\n",
      "Epoch  28 Batch   18/44   train_loss = 1.304\n",
      "Epoch  28 Batch   28/44   train_loss = 1.234\n",
      "Epoch  28 Batch   38/44   train_loss = 1.192\n",
      "Epoch  29 Batch    4/44   train_loss = 1.221\n",
      "Epoch  29 Batch   14/44   train_loss = 1.102\n",
      "Epoch  29 Batch   24/44   train_loss = 1.118\n",
      "Epoch  29 Batch   34/44   train_loss = 1.138\n",
      "Epoch  30 Batch    0/44   train_loss = 1.139\n",
      "Epoch  30 Batch   10/44   train_loss = 1.090\n",
      "Epoch  30 Batch   20/44   train_loss = 1.066\n",
      "Epoch  30 Batch   30/44   train_loss = 1.140\n",
      "Epoch  30 Batch   40/44   train_loss = 1.082\n",
      "Epoch  31 Batch    6/44   train_loss = 1.046\n",
      "Epoch  31 Batch   16/44   train_loss = 1.137\n",
      "Epoch  31 Batch   26/44   train_loss = 1.027\n",
      "Epoch  31 Batch   36/44   train_loss = 1.112\n",
      "Epoch  32 Batch    2/44   train_loss = 1.114\n",
      "Epoch  32 Batch   12/44   train_loss = 1.113\n",
      "Epoch  32 Batch   22/44   train_loss = 1.030\n",
      "Epoch  32 Batch   32/44   train_loss = 1.056\n",
      "Epoch  32 Batch   42/44   train_loss = 0.966\n",
      "Epoch  33 Batch    8/44   train_loss = 0.928\n",
      "Epoch  33 Batch   18/44   train_loss = 1.021\n",
      "Epoch  33 Batch   28/44   train_loss = 0.947\n",
      "Epoch  33 Batch   38/44   train_loss = 0.928\n",
      "Epoch  34 Batch    4/44   train_loss = 0.963\n",
      "Epoch  34 Batch   14/44   train_loss = 0.854\n",
      "Epoch  34 Batch   24/44   train_loss = 0.905\n",
      "Epoch  34 Batch   34/44   train_loss = 0.906\n",
      "Epoch  35 Batch    0/44   train_loss = 0.914\n",
      "Epoch  35 Batch   10/44   train_loss = 0.871\n",
      "Epoch  35 Batch   20/44   train_loss = 0.891\n",
      "Epoch  35 Batch   30/44   train_loss = 0.884\n",
      "Epoch  35 Batch   40/44   train_loss = 0.882\n",
      "Epoch  36 Batch    6/44   train_loss = 0.842\n",
      "Epoch  36 Batch   16/44   train_loss = 0.900\n",
      "Epoch  36 Batch   26/44   train_loss = 0.809\n",
      "Epoch  36 Batch   36/44   train_loss = 0.877\n",
      "Epoch  37 Batch    2/44   train_loss = 0.896\n",
      "Epoch  37 Batch   12/44   train_loss = 0.941\n",
      "Epoch  37 Batch   22/44   train_loss = 0.877\n",
      "Epoch  37 Batch   32/44   train_loss = 0.839\n",
      "Epoch  37 Batch   42/44   train_loss = 0.805\n",
      "Epoch  38 Batch    8/44   train_loss = 0.746\n",
      "Epoch  38 Batch   18/44   train_loss = 0.832\n",
      "Epoch  38 Batch   28/44   train_loss = 0.788\n",
      "Epoch  38 Batch   38/44   train_loss = 0.749\n",
      "Epoch  39 Batch    4/44   train_loss = 0.748\n",
      "Epoch  39 Batch   14/44   train_loss = 0.717\n",
      "Epoch  39 Batch   24/44   train_loss = 0.769\n",
      "Epoch  39 Batch   34/44   train_loss = 0.741\n",
      "Epoch  40 Batch    0/44   train_loss = 0.703\n",
      "Epoch  40 Batch   10/44   train_loss = 0.714\n",
      "Epoch  40 Batch   20/44   train_loss = 0.714\n",
      "Epoch  40 Batch   30/44   train_loss = 0.691\n",
      "Epoch  40 Batch   40/44   train_loss = 0.678\n",
      "Epoch  41 Batch    6/44   train_loss = 0.657\n",
      "Epoch  41 Batch   16/44   train_loss = 0.704\n",
      "Epoch  41 Batch   26/44   train_loss = 0.700\n",
      "Epoch  41 Batch   36/44   train_loss = 0.704\n",
      "Epoch  42 Batch    2/44   train_loss = 0.712\n",
      "Epoch  42 Batch   12/44   train_loss = 0.738\n",
      "Epoch  42 Batch   22/44   train_loss = 0.673\n",
      "Epoch  42 Batch   32/44   train_loss = 0.679\n",
      "Epoch  42 Batch   42/44   train_loss = 0.613\n",
      "Epoch  43 Batch    8/44   train_loss = 0.586\n",
      "Epoch  43 Batch   18/44   train_loss = 0.649\n",
      "Epoch  43 Batch   28/44   train_loss = 0.637\n",
      "Epoch  43 Batch   38/44   train_loss = 0.598\n",
      "Epoch  44 Batch    4/44   train_loss = 0.612\n",
      "Epoch  44 Batch   14/44   train_loss = 0.581\n",
      "Epoch  44 Batch   24/44   train_loss = 0.607\n",
      "Epoch  44 Batch   34/44   train_loss = 0.571\n",
      "Epoch  45 Batch    0/44   train_loss = 0.551\n",
      "Epoch  45 Batch   10/44   train_loss = 0.579\n",
      "Epoch  45 Batch   20/44   train_loss = 0.548\n",
      "Epoch  45 Batch   30/44   train_loss = 0.572\n",
      "Epoch  45 Batch   40/44   train_loss = 0.572\n",
      "Epoch  46 Batch    6/44   train_loss = 0.539\n",
      "Epoch  46 Batch   16/44   train_loss = 0.581\n",
      "Epoch  46 Batch   26/44   train_loss = 0.552\n",
      "Epoch  46 Batch   36/44   train_loss = 0.571\n",
      "Epoch  47 Batch    2/44   train_loss = 0.572\n",
      "Epoch  47 Batch   12/44   train_loss = 0.573\n",
      "Epoch  47 Batch   22/44   train_loss = 0.559\n",
      "Epoch  47 Batch   32/44   train_loss = 0.557\n",
      "Epoch  47 Batch   42/44   train_loss = 0.513\n",
      "Epoch  48 Batch    8/44   train_loss = 0.463\n",
      "Epoch  48 Batch   18/44   train_loss = 0.515\n",
      "Epoch  48 Batch   28/44   train_loss = 0.515\n",
      "Epoch  48 Batch   38/44   train_loss = 0.461\n",
      "Epoch  49 Batch    4/44   train_loss = 0.486\n",
      "Epoch  49 Batch   14/44   train_loss = 0.464\n",
      "Epoch  49 Batch   24/44   train_loss = 0.490\n",
      "Epoch  49 Batch   34/44   train_loss = 0.458\n",
      "Model Trained and Saved\n"
     ]
    }
   ],
   "source": [
    "\"\"\"\n",
    "DON'T MODIFY ANYTHING IN THIS CELL\n",
    "\"\"\"\n",
    "batches = get_batches(int_text, batch_size, seq_length)\n",
    "\n",
    "with tf.Session(graph=train_graph) as sess:\n",
    "    sess.run(tf.global_variables_initializer())\n",
    "\n",
    "    for epoch_i in range(num_epochs):\n",
    "        state = sess.run(initial_state, {input_text: batches[0][0]})\n",
    "\n",
    "        for batch_i, (x, y) in enumerate(batches):\n",
    "            feed = {\n",
    "                input_text: x,\n",
    "                targets: y,\n",
    "                initial_state: state,\n",
    "                lr: learning_rate}\n",
    "            train_loss, state, _ = sess.run([cost, final_state, train_op], feed)\n",
    "\n",
    "            # Show every <show_every_n_batches> batches\n",
    "            if (epoch_i * len(batches) + batch_i) % show_every_n_batches == 0:\n",
    "                print('Epoch {:>3} Batch {:>4}/{}   train_loss = {:.3f}'.format(\n",
    "                    epoch_i,\n",
    "                    batch_i,\n",
    "                    len(batches),\n",
    "                    train_loss))\n",
    "\n",
    "    # Save Model\n",
    "    saver = tf.train.Saver()\n",
    "    saver.save(sess, save_dir)\n",
    "    print('Model Trained and Saved')"
   ]
  },
  {
   "cell_type": "markdown",
   "metadata": {
    "deletable": true,
    "editable": true
   },
   "source": [
    "## Save Parameters\n",
    "Save `seq_length` and `save_dir` for generating a new TV script."
   ]
  },
  {
   "cell_type": "code",
   "execution_count": 24,
   "metadata": {
    "collapsed": false,
    "deletable": true,
    "editable": true
   },
   "outputs": [],
   "source": [
    "\"\"\"\n",
    "DON'T MODIFY ANYTHING IN THIS CELL\n",
    "\"\"\"\n",
    "# Save parameters for checkpoint\n",
    "helper.save_params((seq_length, save_dir))"
   ]
  },
  {
   "cell_type": "markdown",
   "metadata": {
    "deletable": true,
    "editable": true
   },
   "source": [
    "# Checkpoint"
   ]
  },
  {
   "cell_type": "code",
   "execution_count": 25,
   "metadata": {
    "collapsed": false,
    "deletable": true,
    "editable": true
   },
   "outputs": [],
   "source": [
    "\"\"\"\n",
    "DON'T MODIFY ANYTHING IN THIS CELL\n",
    "\"\"\"\n",
    "import tensorflow as tf\n",
    "import numpy as np\n",
    "import helper\n",
    "import problem_unittests as tests\n",
    "\n",
    "_, vocab_to_int, int_to_vocab, token_dict = helper.load_preprocess()\n",
    "seq_length, load_dir = helper.load_params()"
   ]
  },
  {
   "cell_type": "markdown",
   "metadata": {
    "deletable": true,
    "editable": true
   },
   "source": [
    "## Implement Generate Functions\n",
    "### Get Tensors\n",
    "Get tensors from `loaded_graph` using the function [`get_tensor_by_name()`](https://www.tensorflow.org/api_docs/python/tf/Graph#get_tensor_by_name).  Get the tensors using the following names:\n",
    "- \"input:0\"\n",
    "- \"initial_state:0\"\n",
    "- \"final_state:0\"\n",
    "- \"probs:0\"\n",
    "\n",
    "Return the tensors in the following tuple `(InputTensor, InitialStateTensor, FinalStateTensor, ProbsTensor)` "
   ]
  },
  {
   "cell_type": "code",
   "execution_count": 26,
   "metadata": {
    "collapsed": false,
    "deletable": true,
    "editable": true
   },
   "outputs": [
    {
     "name": "stdout",
     "output_type": "stream",
     "text": [
      "Tests Passed\n"
     ]
    }
   ],
   "source": [
    "def get_tensors(loaded_graph):\n",
    "    \"\"\"\n",
    "    Get input, initial state, final state, and probabilities tensor from <loaded_graph>\n",
    "    :param loaded_graph: TensorFlow graph loaded from file\n",
    "    :return: Tuple (InputTensor, InitialStateTensor, FinalStateTensor, ProbsTensor)\n",
    "    \"\"\"\n",
    "    inputs = loaded_graph.get_tensor_by_name(\"input:0\")\n",
    "    initial_state = loaded_graph.get_tensor_by_name(\"initial_state:0\")\n",
    "    final_state = loaded_graph.get_tensor_by_name(\"final_state:0\")\n",
    "    probs = loaded_graph.get_tensor_by_name(\"probs:0\")\n",
    "    return inputs, initial_state, final_state, probs\n",
    "\n",
    "\n",
    "\"\"\"\n",
    "DON'T MODIFY ANYTHING IN THIS CELL THAT IS BELOW THIS LINE\n",
    "\"\"\"\n",
    "tests.test_get_tensors(get_tensors)"
   ]
  },
  {
   "cell_type": "markdown",
   "metadata": {
    "deletable": true,
    "editable": true
   },
   "source": [
    "### Choose Word\n",
    "Implement the `pick_word()` function to select the next word using `probabilities`."
   ]
  },
  {
   "cell_type": "code",
   "execution_count": 27,
   "metadata": {
    "collapsed": false,
    "deletable": true,
    "editable": true
   },
   "outputs": [
    {
     "name": "stdout",
     "output_type": "stream",
     "text": [
      "Tests Passed\n"
     ]
    }
   ],
   "source": [
    "def pick_word(probabilities, int_to_vocab):\n",
    "    \"\"\"\n",
    "    Pick the next word in the generated text\n",
    "    :param probabilities: Probabilites of the next word\n",
    "    :param int_to_vocab: Dictionary of word ids as the keys and words as the values\n",
    "    :return: String of the predicted word\n",
    "    \"\"\"\n",
    "    idxs = list(range(len(probabilities)))\n",
    "    i = np.random.choice(idxs, p=probabilities)\n",
    "    return int_to_vocab[i]\n",
    "\n",
    "\n",
    "\"\"\"\n",
    "DON'T MODIFY ANYTHING IN THIS CELL THAT IS BELOW THIS LINE\n",
    "\"\"\"\n",
    "tests.test_pick_word(pick_word)"
   ]
  },
  {
   "cell_type": "markdown",
   "metadata": {
    "deletable": true,
    "editable": true
   },
   "source": [
    "## Generate TV Script\n",
    "This will generate the TV script for you.  Set `gen_length` to the length of TV script you want to generate."
   ]
  },
  {
   "cell_type": "code",
   "execution_count": 28,
   "metadata": {
    "collapsed": false,
    "deletable": true,
    "editable": true
   },
   "outputs": [
    {
     "name": "stdout",
     "output_type": "stream",
     "text": [
      "moe_szyslak: homer, who's the designated driver!\n",
      "homer_simpson:(to himself to see homer) they keep our busy would.\n",
      "moe_szyslak: well actually, what? i wait a minute?\n",
      "homer_simpson: hey, but i was pretty nervous, i've heard a good friend alive.\n",
      "moe_szyslak: yeah! we'll let me a little friend.\n",
      "moe_szyslak: are you kiddin' me? you're got time. like your problem comes in the buffet of life.\n",
      "moe_szyslak: all who look at me.\n",
      "moe_szyslak: we're already into people bad-mouth you your wife again.\n",
      "moe_szyslak: aw, for the problem in the car, beautiful fellas he's a button-pusher. ivana\" games and\" now\".\"\n",
      "moe_szyslak: a good special i boys?\n",
      "not now when i just get a job!(laughs) hey, what's the designated thing.\n",
      "\n",
      "\n",
      "moe_szyslak: let's leave one of them better than i did.\n",
      "manjula_nahasapeemapetilon: it just a sec, what's two into their cola.\n",
      "homer_simpson: and that's the beauty guy would be picture lessons. he even is from\n"
     ]
    }
   ],
   "source": [
    "gen_length = 200\n",
    "# homer_simpson, moe_szyslak, or Barney_Gumble\n",
    "prime_word = 'moe_szyslak'\n",
    "\n",
    "\"\"\"\n",
    "DON'T MODIFY ANYTHING IN THIS CELL THAT IS BELOW THIS LINE\n",
    "\"\"\"\n",
    "loaded_graph = tf.Graph()\n",
    "with tf.Session(graph=loaded_graph) as sess:\n",
    "    # Load saved model\n",
    "    loader = tf.train.import_meta_graph(load_dir + '.meta')\n",
    "    loader.restore(sess, load_dir)\n",
    "\n",
    "    # Get Tensors from loaded model\n",
    "    input_text, initial_state, final_state, probs = get_tensors(loaded_graph)\n",
    "\n",
    "    # Sentences generation setup\n",
    "    gen_sentences = [prime_word + ':']\n",
    "    prev_state = sess.run(initial_state, {input_text: np.array([[1]])})\n",
    "\n",
    "    # Generate sentences\n",
    "    for n in range(gen_length):\n",
    "        # Dynamic Input\n",
    "        dyn_input = [[vocab_to_int[word] for word in gen_sentences[-seq_length:]]]\n",
    "        dyn_seq_length = len(dyn_input[0])\n",
    "\n",
    "        # Get Prediction\n",
    "        probabilities, prev_state = sess.run(\n",
    "            [probs, final_state],\n",
    "            {input_text: dyn_input, initial_state: prev_state})\n",
    "        \n",
    "        pred_word = pick_word(probabilities[dyn_seq_length-1], int_to_vocab)\n",
    "\n",
    "        gen_sentences.append(pred_word)\n",
    "    \n",
    "    # Remove tokens\n",
    "    tv_script = ' '.join(gen_sentences)\n",
    "    for key, token in token_dict.items():\n",
    "        ending = ' ' if key in ['\\n', '(', '\"'] else ''\n",
    "        tv_script = tv_script.replace(' ' + token.lower(), key)\n",
    "    tv_script = tv_script.replace('\\n ', '\\n')\n",
    "    tv_script = tv_script.replace('( ', '(')\n",
    "        \n",
    "    print(tv_script)"
   ]
  },
  {
   "cell_type": "markdown",
   "metadata": {
    "deletable": true,
    "editable": true
   },
   "source": [
    "# The TV Script is Nonsensical\n",
    "It's ok if the TV script doesn't make any sense.  We trained on less than a megabyte of text.  In order to get good results, you'll have to use a smaller vocabulary or get more data.  Luckly there's more data!  As we mentioned in the begging of this project, this is a subset of [another dataset](https://www.kaggle.com/wcukierski/the-simpsons-by-the-data).  We didn't have you train on all the data, because that would take too long.  However, you are free to train your neural network on all the data.  After you complete the project, of course.\n",
    "# Submitting This Project\n",
    "When submitting this project, make sure to run all the cells before saving the notebook. Save the notebook file as \"dlnd_tv_script_generation.ipynb\" and save it as a HTML file under \"File\" -> \"Download as\". Include the \"helper.py\" and \"problem_unittests.py\" files in your submission."
   ]
  }
 ],
 "metadata": {
  "kernelspec": {
   "display_name": "Python 3",
   "language": "python",
   "name": "python3"
  },
  "language_info": {
   "codemirror_mode": {
    "name": "ipython",
    "version": 3
   },
   "file_extension": ".py",
   "mimetype": "text/x-python",
   "name": "python",
   "nbconvert_exporter": "python",
   "pygments_lexer": "ipython3",
   "version": "3.5.2"
  },
  "widgets": {
   "state": {},
   "version": "1.1.2"
  }
 },
 "nbformat": 4,
 "nbformat_minor": 0
}
